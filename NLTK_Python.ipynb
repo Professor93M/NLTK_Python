{
 "cells": [
  {
   "cell_type": "markdown",
   "id": "35a6857e",
   "metadata": {},
   "source": [
    "# NLTK with Python"
   ]
  },
  {
   "attachments": {},
   "cell_type": "markdown",
   "id": "5e316598",
   "metadata": {},
   "source": [
    "### Asst. Prof. Hadi Saboohi\n",
    "\n",
    "### _Mohammed K Jumaah_ & _Mohammed Q Kareem_"
   ]
  },
  {
   "cell_type": "markdown",
   "id": "c2db72d3",
   "metadata": {},
   "source": [
    "---"
   ]
  },
  {
   "cell_type": "markdown",
   "id": "079a1413",
   "metadata": {},
   "source": [
    "# Tokenizing"
   ]
  },
  {
   "cell_type": "code",
   "execution_count": null,
   "id": "8002ac95",
   "metadata": {},
   "outputs": [],
   "source": [
    "from nltk.tokenize import sent_tokenize, word_tokenize"
   ]
  },
  {
   "cell_type": "code",
   "execution_count": null,
   "id": "c6a6d5b6",
   "metadata": {},
   "outputs": [],
   "source": [
    "example_string = \"\"\"\n",
    "Muad'Dib learned rapidly because his first training was in how to learn.\n",
    "And the first lesson of all was the basic trust that he could learn.\n",
    "It's shocking to find how many people do not believe they can learn,\n",
    "and how many more believe learning to be difficult.\"\"\""
   ]
  },
  {
   "cell_type": "code",
   "execution_count": null,
   "id": "e18c6ae1",
   "metadata": {},
   "outputs": [],
   "source": [
    "sent_tokenize(example_string)"
   ]
  },
  {
   "cell_type": "code",
   "execution_count": null,
   "id": "d17693a7",
   "metadata": {},
   "outputs": [],
   "source": [
    "word_tokenize(example_string)"
   ]
  },
  {
   "cell_type": "code",
   "execution_count": null,
   "id": "0f9972fe",
   "metadata": {},
   "outputs": [],
   "source": [
    "from nltk.corpus import stopwords\n",
    "from nltk.tokenize import word_tokenize"
   ]
  },
  {
   "cell_type": "code",
   "execution_count": null,
   "id": "2c622d41",
   "metadata": {},
   "outputs": [],
   "source": [
    "worf_quote = \"Sir, I protest. I am not a merry man!\""
   ]
  },
  {
   "cell_type": "code",
   "execution_count": null,
   "id": "53e91a36",
   "metadata": {},
   "outputs": [],
   "source": [
    "words_in_quote = word_tokenize(worf_quote)\n",
    "words_in_quote"
   ]
  },
  {
   "cell_type": "markdown",
   "id": "f050505c",
   "metadata": {},
   "source": [
    "# Filtering Stop Words"
   ]
  },
  {
   "cell_type": "code",
   "execution_count": null,
   "id": "44776773",
   "metadata": {},
   "outputs": [],
   "source": [
    "stop_words = set(stopwords.words(\"english\"))"
   ]
  },
  {
   "cell_type": "code",
   "execution_count": null,
   "id": "5d05a553",
   "metadata": {},
   "outputs": [],
   "source": [
    "filtered_list = []\n",
    "for word in words_in_quote:\n",
    "    if word.casefold() not in stop_words:\n",
    "         filtered_list.append(word)\n",
    "            \n",
    "filtered_list = [\n",
    "    word for word in words_in_quote if word.casefold() not in stop_words\n",
    "]\n",
    "filtered_list"
   ]
  },
  {
   "cell_type": "markdown",
   "id": "16c126fd",
   "metadata": {},
   "source": [
    "# Stemming"
   ]
  },
  {
   "cell_type": "code",
   "execution_count": null,
   "id": "56481f20",
   "metadata": {},
   "outputs": [],
   "source": [
    "from nltk.stem import PorterStemmer\n",
    "from nltk.tokenize import word_tokenize"
   ]
  },
  {
   "cell_type": "code",
   "execution_count": null,
   "id": "11451e26",
   "metadata": {},
   "outputs": [],
   "source": [
    "stemmer = PorterStemmer()\n",
    "string_for_stemming = \"\"\"\n",
    "The crew of the USS Discovery discovered many discoveries.\n",
    "Discovering is what explorers do.\"\"\"\n",
    "words = word_tokenize(string_for_stemming)\n",
    "words"
   ]
  },
  {
   "cell_type": "code",
   "execution_count": null,
   "id": "1fbcd122",
   "metadata": {},
   "outputs": [],
   "source": [
    "stemmed_words = [stemmer.stem(word) for word in words]\n",
    "stemmed_words"
   ]
  },
  {
   "cell_type": "markdown",
   "id": "a6ebc24c",
   "metadata": {},
   "source": [
    "# Tagging Parts of Speech"
   ]
  },
  {
   "cell_type": "code",
   "execution_count": null,
   "id": "21a7dc7b",
   "metadata": {},
   "outputs": [],
   "source": [
    "from nltk.tokenize import word_tokenize\n",
    "sagan_quote = \"\"\"\n",
    "If you wish to make an apple pie from scratch,\n",
    "you must first invent the universe.\"\"\"\n",
    "words_in_sagan_quote = word_tokenize(sagan_quote)\n",
    "\n",
    "import nltk\n",
    "nltk.pos_tag(words_in_sagan_quote)"
   ]
  },
  {
   "cell_type": "code",
   "execution_count": null,
   "id": "1d9893fc",
   "metadata": {},
   "outputs": [],
   "source": [
    "nltk.help.upenn_tagset()"
   ]
  },
  {
   "cell_type": "code",
   "execution_count": null,
   "id": "8e40049c",
   "metadata": {},
   "outputs": [],
   "source": [
    "jabberwocky_excerpt = \"\"\"\n",
    "'Twas brillig, and the slithy toves did gyre and gimble in the wabe:\n",
    "all mimsy were the borogoves, and the mome raths outgrabe.\"\"\"\n",
    "words_in_excerpt = word_tokenize(jabberwocky_excerpt)\n",
    "nltk.pos_tag(words_in_excerpt)"
   ]
  },
  {
   "cell_type": "markdown",
   "id": "a0240765",
   "metadata": {},
   "source": [
    "# Lemmatizing"
   ]
  },
  {
   "cell_type": "code",
   "execution_count": null,
   "id": "a07b7d27",
   "metadata": {},
   "outputs": [],
   "source": [
    "from nltk.stem import WordNetLemmatizer\n",
    "lemmatizer = WordNetLemmatizer()\n",
    "lemmatizer.lemmatize(\"scarves\")"
   ]
  },
  {
   "cell_type": "code",
   "execution_count": null,
   "id": "c7eddbe7",
   "metadata": {},
   "outputs": [],
   "source": [
    "string_for_lemmatizing = \"The friends of DeSoto love scarves.\"\n",
    "words = word_tokenize(string_for_lemmatizing)\n",
    "words"
   ]
  },
  {
   "cell_type": "code",
   "execution_count": null,
   "id": "6d53d05f",
   "metadata": {},
   "outputs": [],
   "source": [
    "lemmatized_words = [lemmatizer.lemmatize(word) for word in words]\n",
    "lemmatized_words"
   ]
  },
  {
   "cell_type": "code",
   "execution_count": null,
   "id": "3e0f9668",
   "metadata": {},
   "outputs": [],
   "source": [
    "lemmatizer.lemmatize(\"worst\")\n",
    "lemmatizer.lemmatize(\"worst\", pos=\"a\")"
   ]
  },
  {
   "cell_type": "markdown",
   "id": "3521b607",
   "metadata": {},
   "source": [
    "# Chunking"
   ]
  },
  {
   "cell_type": "code",
   "execution_count": null,
   "id": "99931323",
   "metadata": {},
   "outputs": [],
   "source": [
    "from nltk.tokenize import word_tokenize\n",
    "lotr_quote = \"It's a dangerous business, Frodo, going out your door.\"\n",
    "words_in_lotr_quote = word_tokenize(lotr_quote)\n",
    "words_in_lotr_quote"
   ]
  },
  {
   "cell_type": "code",
   "execution_count": null,
   "id": "cf4fb283",
   "metadata": {},
   "outputs": [],
   "source": [
    "lotr_pos_tags = nltk.pos_tag(words_in_lotr_quote)\n",
    "lotr_pos_tags"
   ]
  },
  {
   "cell_type": "code",
   "execution_count": null,
   "id": "4297c416",
   "metadata": {},
   "outputs": [],
   "source": [
    "grammar = \"NP: {<DT>?<JJ>*<NN>}\"\n",
    "chunk_parser = nltk.RegexpParser(grammar)\n",
    "tree = chunk_parser.parse(lotr_pos_tags)\n",
    "tree.draw()\n",
    "lotr_pos_tags"
   ]
  },
  {
   "cell_type": "markdown",
   "id": "4a87e099",
   "metadata": {},
   "source": [
    "# Chinking"
   ]
  },
  {
   "cell_type": "code",
   "execution_count": null,
   "id": "a7c8467c",
   "metadata": {},
   "outputs": [],
   "source": [
    "grammar = \"\"\"\n",
    "Chunk: {<.*>+}\n",
    "       }<JJ>{\"\"\";\n",
    "chunk_parser = nltk.RegexpParser(grammar)\n",
    "tree = chunk_parser.parse(lotr_pos_tags)\n",
    "tree.draw()"
   ]
  },
  {
   "cell_type": "markdown",
   "id": "b8188da0",
   "metadata": {},
   "source": [
    "# Named Entity Recognition (NER)"
   ]
  },
  {
   "cell_type": "code",
   "execution_count": null,
   "id": "0023229b",
   "metadata": {},
   "outputs": [],
   "source": [
    "tree = nltk.ne_chunk(lotr_pos_tags)\n",
    "tree.draw()"
   ]
  },
  {
   "cell_type": "code",
   "execution_count": null,
   "id": "8ebf7169",
   "metadata": {},
   "outputs": [],
   "source": [
    "tree = nltk.ne_chunk(lotr_pos_tags, binary=True)\n",
    "tree.draw()"
   ]
  },
  {
   "cell_type": "code",
   "execution_count": null,
   "id": "70c0b087",
   "metadata": {},
   "outputs": [],
   "source": [
    "quote = \"\"\"\n",
    "Men like Schiaparelli watched the red planet—it is odd, by-the-bye, that\n",
    "for countless centuries Mars has been the star of war—but failed to\n",
    "interpret the fluctuating appearances of the markings they mapped so well.\n",
    "All that time the Martians must have been getting ready.\n",
    "\n",
    "During the opposition of 1894 a great light was seen on the illuminated\n",
    "part of the disk, first at the Lick Observatory, then by Perrotin of Nice,\n",
    "and then by other observers. English readers heard of it first in the\n",
    "issue of Nature dated August 2.\"\"\"\n",
    "\n",
    "def extract_ne(quote):\n",
    "    words = word_tokenize(quote, language='english')\n",
    "    tags = nltk.pos_tag(words)\n",
    "    tree = nltk.ne_chunk(tags, binary=True)\n",
    "    return set(\n",
    "        \" \".join(i[0] for i in t)\n",
    "        for t in tree\n",
    "        if hasattr(t, \"label\") and t.label() == \"NE\"\n",
    "    )\n",
    "extract_ne(quote)"
   ]
  }
 ],
 "metadata": {
  "kernelspec": {
   "display_name": "Python 3 (ipykernel)",
   "language": "python",
   "name": "python3"
  },
  "language_info": {
   "codemirror_mode": {
    "name": "ipython",
    "version": 3
   },
   "file_extension": ".py",
   "mimetype": "text/x-python",
   "name": "python",
   "nbconvert_exporter": "python",
   "pygments_lexer": "ipython3",
   "version": "3.9.7"
  }
 },
 "nbformat": 4,
 "nbformat_minor": 5
}
